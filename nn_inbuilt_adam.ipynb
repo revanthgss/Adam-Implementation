{
 "cells": [
  {
   "cell_type": "code",
   "execution_count": 12,
   "metadata": {},
   "outputs": [
    {
     "name": "stdout",
     "output_type": "stream",
     "text": [
      "tensor([1., 2., 3.])\n",
      "tensor([ 4., 10., 18.])\n",
      "[1. 2. 3.]\n",
      "tensor([1., 2., 3.])\n",
      "tensor([1., 2., 3.])\n",
      "tensor([[4.],\n",
      "        [5.],\n",
      "        [6.]])\n"
     ]
    }
   ],
   "source": [
    "#!/usr/bin/env python3\n",
    "# -*- coding: utf-8 -*-\n",
    "\"\"\"\n",
    "Created on Mon Mar  9 11:31:23 2020\n",
    "\n",
    "@author: rithik\n",
    "\"\"\"\n",
    "\n",
    "import torch\n",
    "import torchvision\n",
    "from torchvision import transforms,datasets\n",
    "import numpy as np\n",
    "from matplotlib import pyplot as plt\n",
    "\n",
    "a=torch.Tensor([1,2,3])\n",
    "b=torch.Tensor([4,5,6])\n",
    "\n",
    "print(a)\n",
    "\n",
    "print(a*b)\n",
    "\n",
    "c=np.array(a)\n",
    "print(c)\n",
    "\n",
    "''' This .Tensor() function is used to convert the numpy array into tensor'''\n",
    "d=torch.Tensor(c)\n",
    "print(d)\n",
    "\n",
    "e=torch.tensor(c)\n",
    "print(e)\n",
    "\n",
    "''' View is similar to reshape'''\n",
    "''' Here for shape input should be a list unlike numpy'''\n",
    "\n",
    "\n",
    "print(b.view((3,1)))"
   ]
  },
  {
   "cell_type": "code",
   "execution_count": 59,
   "metadata": {},
   "outputs": [
    {
     "name": "stdout",
     "output_type": "stream",
     "text": [
      "15000\n",
      "2\n",
      "4\n",
      "4\n",
      "<class 'list'>\n",
      "torch.Size([4, 1, 28, 28])\n",
      "torch.Size([1, 28, 28])\n",
      "torch.Size([28])\n",
      "tensor([0., 0., 0., 0., 0., 0., 0., 0., 0., 0., 0., 0., 0., 0., 0., 0., 0., 0., 0., 0., 0., 0., 0., 0.,\n",
      "        0., 0., 0., 0.])\n",
      "tensor([3, 5, 0, 8])\n"
     ]
    },
    {
     "data": {
      "image/png": "[encoded data removed]",
      "text/plain": [
       "<Figure size 432x288 with 1 Axes>"
      ]
     },
     "metadata": {
      "needs_background": "light"
     },
     "output_type": "display_data"
    },
    {
     "data": {
      "text/plain": [
       "'dataiter = iter(trainset)\\nimages, labels = dataiter.next()\\nplt.imshow(torchvision.utils.make_grid(images))\\nplt.show()'"
      ]
     },
     "execution_count": 59,
     "metadata": {},
     "output_type": "execute_result"
    }
   ],
   "source": [
    "train=datasets.MNIST(root=\".\",train=True,download=True,transform=transforms.Compose([transforms.ToTensor()]))\n",
    "\n",
    "test=datasets.MNIST(root=\".\",train=False,download=True,transform=transforms.Compose([transforms.ToTensor()]))\n",
    "\n",
    "trainset=torch.utils.data.DataLoader(train,batch_size=4,shuffle=True)\n",
    "\n",
    "testset=torch.utils.data.DataLoader(test,batch_size=4,shuffle=True)\n",
    "\n",
    "count=0\n",
    "c=[]\n",
    "\n",
    "for data in trainset:\n",
    "    #print(data[1])\n",
    "    c.append(data)\n",
    "    count=count+1\n",
    "    #break\n",
    "\n",
    "print(count)        #(15000*4) no of smaples in the training dataset\n",
    "\n",
    "#x,y=data[0][0],data[1][0]\n",
    "#print(data.get_shape())\n",
    "print(len(data))\n",
    "print(len(data[0]))\n",
    "print(len(data[1]))\n",
    "print(type(data))\n",
    "#print(data.shape)               #data is not a torch object it's a list object so .shape function doesn't work \n",
    "print(data[0].shape)\n",
    "print(data[0][0].shape)\n",
    "print(data[0][0][0][1].shape)\n",
    "print(data[0][0][0][1])          #Tensor object so .shape function works\n",
    "#print(data[0][0])\n",
    "print(data[1])\n",
    "#print(y)\n",
    "\n",
    "%matplotlib inline\n",
    "plt.imshow((np.array(data[0][0])).reshape(28,28),cmap='gray')   #for plotting input has to be numpy array only\n",
    "#spelling of 'gray' is important\n",
    "plt.show()\n",
    "\n",
    "'''\n",
    "first_image = data[0][0]\n",
    "first_image = np.array(first_image, dtype='float')\n",
    "pixels = first_image.reshape((28, 28))\n",
    "plt.imshow(pixels, cmap='gray')\n",
    "plt.show() '''\n"
   ]
  },
  {
   "cell_type": "code",
   "execution_count": 60,
   "metadata": {},
   "outputs": [],
   "source": [
    "'''Training the Neural Networks'''\n",
    "import torch.nn as nn                       #Used for object oriented\n",
    "import torch.nn.functional as F             #used for the Functional Oriented\n",
    "\n",
    "class Net(nn.Module):                       #Here M is capital in Module\n",
    "    def __init__(self):\n",
    "        super().__init__()                  #Don't forget it it's important\n",
    "        self.fc1=nn.Linear(28*28,64)\n",
    "        self.fc2=nn.Linear(64,64)\n",
    "        self.fc3=nn.Linear(64,64)\n",
    "        self.fc4=nn.Linear(64,10)\n",
    "    \n",
    "    \n",
    "    def forward(self,x):                    \n",
    "        #Defines how the data should flow through the network and we are using it as a constructor as self is also\n",
    "        #a parameter\n",
    "        \n",
    "        x=F.relu(self.fc1(x))\n",
    "        x=F.relu(self.fc2(x))\n",
    "        x=F.relu(self.fc3(x))\n",
    "        x=(self.fc4(x))\n",
    "        return F.log_softmax(x,dim=1)     #Here Just like sigmid we calculate something\n",
    "\n",
    "net=Net()\n"
   ]
  },
  {
   "cell_type": "code",
   "execution_count": 61,
   "metadata": {},
   "outputs": [
    {
     "name": "stdout",
     "output_type": "stream",
     "text": [
      "tensor([[-2.4158, -2.2976, -2.3539, -2.4092, -2.2832, -2.2174, -2.3069, -2.2095,\n",
      "         -2.3460, -2.2128]], grad_fn=<LogSoftmaxBackward>)\n"
     ]
    }
   ],
   "source": [
    "'''Testing For the Randomly Genearted Datasets'''\n",
    "\n",
    "x=torch.rand((28,28))\n",
    "#print(x)\n",
    "x=x.view(1,28*28)                #Here (-1,1) doesn't work\n",
    "output=net(x)\n",
    "\n",
    "print(output)"
   ]
  },
  {
   "cell_type": "code",
   "execution_count": 62,
   "metadata": {},
   "outputs": [
    {
     "name": "stdout",
     "output_type": "stream",
     "text": [
      "tensor(0.0030, grad_fn=<NllLossBackward>)\n",
      "tensor(0.0038, grad_fn=<NllLossBackward>)\n",
      "tensor(0.0003, grad_fn=<NllLossBackward>)\n",
      "tensor(0.0003, grad_fn=<NllLossBackward>)\n",
      "tensor(0.0001, grad_fn=<NllLossBackward>)\n"
     ]
    }
   ],
   "source": [
    "'''Training the datasets'''\n",
    "\n",
    "import torch.optim as optim\n",
    "\n",
    "optimiser=optim.Adam(net.parameters(),lr=0.001)\n",
    "\n",
    "num_iter=5\n",
    "\n",
    "for i in range(num_iter):\n",
    "    \n",
    "    for data in trainset:\n",
    "        \n",
    "        X,y=data\n",
    "        \n",
    "        net.zero_grad()                 #As we are training in a batch after a batch the gradient should be zero\n",
    "       \n",
    "        output=net(X.view(-1,28*28))\n",
    "        \n",
    "        loss=F.nll_loss(output,y)       #Generally used if the predicted output is not in the one-hot vector form\n",
    "        \n",
    "        loss.backward()                           #It back propogates the loss calculated\n",
    "        \n",
    "        optimiser.step()                          #Used in adjusting the weights in neural Networks\n",
    "    \n",
    "    print(loss)\n",
    "\n",
    "#Takes a lot of time like approx 3 min depends on the processor"
   ]
  },
  {
   "cell_type": "code",
   "execution_count": 63,
   "metadata": {},
   "outputs": [
    {
     "name": "stdout",
     "output_type": "stream",
     "text": [
      "Accuracy is  98.2\n"
     ]
    }
   ],
   "source": [
    "with torch.no_grad():                   \n",
    "    # If the data is not used and if we want to test it then gradient shouldn't be applied so we tell this function\n",
    "    # to use if the gradient is not calculated\n",
    "    total=0\n",
    "    count=0\n",
    "    for data in trainset:\n",
    "        x,y = data                                    #Divied into batcches of group 4 as specified during input\n",
    "        output = net(x.view(-1,28*28))\n",
    "        for index,value in enumerate(output):\n",
    "            if(torch.argmax(value)==y[index]):       #It's not output.argmax() its torch.argmax()\n",
    "                count+=1;\n",
    "            total+=1;\n",
    "print(\"Accuracy is \" ,100*round(count/total,3))      #Mostly (97-99)"
   ]
  },
  {
   "cell_type": "code",
   "execution_count": 71,
   "metadata": {},
   "outputs": [
    {
     "name": "stdout",
     "output_type": "stream",
     "text": [
      "Y is  tensor(7)\n"
     ]
    },
    {
     "data": {
      "image/png": "[encoded data removed]",
      "text/plain": [
       "<Figure size 432x288 with 1 Axes>"
      ]
     },
     "metadata": {
      "needs_background": "light"
     },
     "output_type": "display_data"
    }
   ],
   "source": [
    "plt.imshow(x[2].view(28,28),cmap='gray')\n",
    "#plt.show()\n",
    "print(\"Y is \",y[2])"
   ]
  },
  {
   "cell_type": "code",
   "execution_count": null,
   "metadata": {},
   "outputs": [],
   "source": []
  }
 ],
 "metadata": {
  "kernelspec": {
   "display_name": "Python 3",
   "language": "python",
   "name": "python3"
  },
  "language_info": {
   "codemirror_mode": {
    "name": "ipython",
    "version": 3
   },
   "file_extension": ".py",
   "mimetype": "text/x-python",
   "name": "python",
   "nbconvert_exporter": "python",
   "pygments_lexer": "ipython3",
   "version": "3.7.4"
  }
 },
 "nbformat": 4,
 "nbformat_minor": 2
}
